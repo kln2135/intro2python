{
 "cells": [
  {
   "cell_type": "markdown",
   "metadata": {},
   "source": [
    "# **Week 8: Object-Oriented Programming (continued) + Exploring Data**"
   ]
  },
  {
   "cell_type": "code",
   "execution_count": 1,
   "metadata": {},
   "outputs": [],
   "source": [
    "#imports\n",
    "from datetime import date\n",
    "import numpy as np\n",
    "import pandas as pd\n",
    "from matplotlib import pyplot as plt"
   ]
  },
  {
   "cell_type": "markdown",
   "metadata": {},
   "source": [
    "### Classes and objects\n",
    "Remember: classes are like *recipes* and objects are what you *make with them*. You can use the same recipe to make many things, and you can change pieces of the recipe to fit your needs."
   ]
  },
  {
   "cell_type": "markdown",
   "metadata": {},
   "source": [
    "#### Example class code\n",
    "Let's go over how to use classes and objects in detail. Run the code below to load in our custom `Experiment` class."
   ]
  },
  {
   "cell_type": "code",
   "execution_count": 2,
   "metadata": {},
   "outputs": [],
   "source": [
    "#Run this code to load the class. Try using shift-enter!\n",
    "class Experiment:\n",
    "\n",
    "    #this is a constructor - it runs anytime you create an object  \n",
    "    def __init__(self, path_to_expt, expt_date, experimenter):\n",
    "        self.path_to_expt = path_to_expt\n",
    "        self.expt_date = expt_date\n",
    "        self.experimenter = experimenter\n",
    "        self.generated_date = date.today()\n",
    "        print('Constructor called')\n",
    "\n",
    "    #this is a function, that's associated with the class    \n",
    "    def print_expt_info(self):\n",
    "        print('Path: ', self.path_to_expt)\n",
    "        print('Experiment Date: ', self.expt_date)\n",
    "        print('Experimenter: ', self.experimenter)\n",
    "        print('Generation Date: ', self.generated_date)\n",
    "        \n",
    "    #ditto\n",
    "    def return_data(self):\n",
    "        return 'There is no data here for now'"
   ]
  },
  {
   "cell_type": "markdown",
   "metadata": {},
   "source": [
    "Let's pause to go through what's inside the class code. \n",
    "First, we have a function called `__init__`. This is a **constructor**, and it will be run anytime you create an object from this class. The constructor is a place to put commands that you create an object: for example, here we assign some attributes (or variables) associated with out class.\n",
    "\n",
    "Let's see the constructor in action by creating an object. First, we create an object named `expt`, by calling `Experiment` and providing information. This process is called **instantiation**."
   ]
  },
  {
   "cell_type": "code",
   "execution_count": 4,
   "metadata": {},
   "outputs": [
    {
     "name": "stdout",
     "output_type": "stream",
     "text": [
      "Constructor called\n"
     ]
    }
   ],
   "source": [
    "expt = Experiment('data/exp_01', expt_date='2025-10-20', experimenter='Kira')"
   ]
  },
  {
   "cell_type": "markdown",
   "metadata": {},
   "source": [
    "What happened here is we created an object called `expt` from Experiment, which automatically ran the constructor. Notice that when we instantiated our object, we provided information to the function call, just like you would with any other function. We can access this data, as in our constructor we save the data to the object using the **self** command."
   ]
  },
  {
   "cell_type": "code",
   "execution_count": null,
   "metadata": {},
   "outputs": [
    {
     "data": {
      "text/plain": [
       "datetime.date(2025, 10, 21)"
      ]
     },
     "execution_count": 5,
     "metadata": {},
     "output_type": "execute_result"
    }
   ],
   "source": [
    "expt.generated_date\n",
    "# why are we using expt and not self --> because expt is the named object!!!!\n",
    "#obejcts are like cakes made from this recipe -- can be different cakes\n",
    "#expt is the object that we made in cell avoce -- a specific experement"
   ]
  },
  {
   "cell_type": "markdown",
   "metadata": {},
   "source": [
    "We've already seen attributes (this is a fancy way of saying 'a variable that is associated with an object') before - can you think of an example?"
   ]
  },
  {
   "cell_type": "code",
   "execution_count": null,
   "metadata": {},
   "outputs": [],
   "source": []
  },
  {
   "cell_type": "markdown",
   "metadata": {},
   "source": [
    "\n",
    "We can also call functions within the class. For example:"
   ]
  },
  {
   "cell_type": "code",
   "execution_count": 6,
   "metadata": {},
   "outputs": [
    {
     "name": "stdout",
     "output_type": "stream",
     "text": [
      "Path:  data/exp_01\n",
      "Experiment Date:  2025-10-20\n",
      "Experimenter:  Kira\n",
      "Generation Date:  2025-10-21\n"
     ]
    }
   ],
   "source": [
    "expt.print_expt_info()"
   ]
  },
  {
   "cell_type": "code",
   "execution_count": null,
   "metadata": {},
   "outputs": [
    {
     "name": "stdout",
     "output_type": "stream",
     "text": [
      "Path:  data/exp_01\n",
      "Experiment Date:  2025-10-20\n",
      "Experimenter:  Kira\n",
      "Generation Date:  2025-10-21\n"
     ]
    }
   ],
   "source": [
    "Experiment.print_expt_info(self=expt)\n",
    "# a more efficient version of calling it"
   ]
  },
  {
   "cell_type": "markdown",
   "metadata": {},
   "source": [
    "Notes:\n",
    "Kind of confused about what the point of uses classes and objects is\n",
    "\n",
    "what would be the benefit of using this -- how could I apply this in work"
   ]
  },
  {
   "cell_type": "markdown",
   "metadata": {},
   "source": [
    "What happens if we try to call the function directly?"
   ]
  },
  {
   "cell_type": "code",
   "execution_count": 8,
   "metadata": {},
   "outputs": [
    {
     "ename": "NameError",
     "evalue": "name 'print_expt_info' is not defined",
     "output_type": "error",
     "traceback": [
      "\u001b[31m---------------------------------------------------------------------------\u001b[39m",
      "\u001b[31mNameError\u001b[39m                                 Traceback (most recent call last)",
      "\u001b[36mCell\u001b[39m\u001b[36m \u001b[39m\u001b[32mIn[8]\u001b[39m\u001b[32m, line 1\u001b[39m\n\u001b[32m----> \u001b[39m\u001b[32m1\u001b[39m print_expt_info()\n",
      "\u001b[31mNameError\u001b[39m: name 'print_expt_info' is not defined"
     ]
    }
   ],
   "source": [
    "print_expt_info()\n",
    "#Experiment.print_expt_info()"
   ]
  },
  {
   "cell_type": "markdown",
   "metadata": {},
   "source": [
    "In OOP, self refers to the *object itself*. That is to say: you can't call a function without an object - let's scroll back up to understand why. We can get a little hacky and pass in the object though."
   ]
  },
  {
   "cell_type": "code",
   "execution_count": null,
   "metadata": {},
   "outputs": [],
   "source": [
    "Experiment.print_expt_info(self=expt)"
   ]
  },
  {
   "cell_type": "markdown",
   "metadata": {},
   "source": [
    "This is what happens when you call functions from a class - it just happens to pass `self` (a reference to the object) in for you!"
   ]
  },
  {
   "cell_type": "markdown",
   "metadata": {},
   "source": [
    "### Problem 1\n",
    "\n",
    "Modify the code from the cells above to add another argument to the constructor - it can be whatever you want it to be. Then, create an object of your class, and call  `print_expt_info`."
   ]
  },
  {
   "cell_type": "code",
   "execution_count": null,
   "metadata": {},
   "outputs": [],
   "source": [
    "#Run this code to load the class. Try using shift-enter!\n",
    "class Experiment:\n",
    "\n",
    "    #this is a constructor - it runs anytime you create an object  \n",
    "    def __init__(self, path_to_expt, expt_date, experimenter, larva): #add new arg to constructors here ,new thing\n",
    "        self.path_to_expt = path_to_expt\n",
    "        self.expt_date = expt_date\n",
    "        self.experimenter = experimenter\n",
    "        self.generated_date = date.today()\n",
    "        self.larva = larva #added new arg --> put it up top too\n",
    "        print('Constructor called')\n",
    "\n",
    "    #this is a function, that's associated with the class    \n",
    "    def print_expt_info(self):\n",
    "        print('Path: ', self.path_to_expt)\n",
    "        print('Experiment Date: ', self.expt_date)\n",
    "        print('Experimenter: ', self.experimenter)\n",
    "        print('Generation Date: ', self.generated_date)\n",
    "        print('Larva Genotype: ', self.larva) # need to add something that it will print!\n",
    "        \n",
    "    #ditto\n",
    "    def return_data(self):\n",
    "        return 'There is no data here for now'"
   ]
  },
  {
   "cell_type": "code",
   "execution_count": 30,
   "metadata": {},
   "outputs": [
    {
     "name": "stdout",
     "output_type": "stream",
     "text": [
      "Constructor called\n"
     ]
    }
   ],
   "source": [
    "expt1 = Experiment('data/exp_02', expt_date='2025-10-21', experimenter='Kira', larva ='1260')"
   ]
  },
  {
   "cell_type": "code",
   "execution_count": 31,
   "metadata": {},
   "outputs": [
    {
     "name": "stdout",
     "output_type": "stream",
     "text": [
      "Path:  data/exp_02\n",
      "Experiment Date:  2025-10-21\n",
      "Experimenter:  Kira\n",
      "Generation Date:  2025-10-21\n",
      "Larva Genotype:  1260\n"
     ]
    }
   ],
   "source": [
    "expt1.print_expt_info()"
   ]
  },
  {
   "cell_type": "markdown",
   "metadata": {},
   "source": [
    "#### Making multiple objects\n",
    "A class can support many independent objects! Back to the analogy: if I have two recipes for a pumpkin pie, I can make two pumpkin pies, and if I put whipped cream on one, then it won't magically appear on the other.\n",
    "\n",
    "Let's make two objects from a new class, and see if modifying one affects the other. |"
   ]
  },
  {
   "cell_type": "code",
   "execution_count": 32,
   "metadata": {},
   "outputs": [],
   "source": [
    "class BehaviorExperiment:\n",
    "    \n",
    "    def __init__(self, head_turn, freezing):\n",
    "        self.head_turn = head_turn\n",
    "        self.freezing = freezing\n",
    "        self.time = date.today()\n",
    "        \n",
    "    def print_info(self):\n",
    "        print(self.head_turn)\n",
    "        print(self.freezing)\n",
    "        print(self.time)\n",
    "        \n",
    "    def calc_velocity(self):\n",
    "        self.velocity = self.head_turn * 2\n",
    "        return self.velocity"
   ]
  },
  {
   "cell_type": "code",
   "execution_count": 33,
   "metadata": {},
   "outputs": [
    {
     "name": "stdout",
     "output_type": "stream",
     "text": [
      "5\n",
      "True\n",
      "2025-10-21\n"
     ]
    }
   ],
   "source": [
    "beh_expt1 = BehaviorExperiment(5, True)\n",
    "beh_expt1.print_info()"
   ]
  },
  {
   "cell_type": "code",
   "execution_count": 34,
   "metadata": {},
   "outputs": [
    {
     "name": "stdout",
     "output_type": "stream",
     "text": [
      "10\n"
     ]
    }
   ],
   "source": [
    "velocity = beh_expt1.calc_velocity()\n",
    "print(velocity)"
   ]
  },
  {
   "cell_type": "code",
   "execution_count": null,
   "metadata": {},
   "outputs": [
    {
     "name": "stdout",
     "output_type": "stream",
     "text": [
      "5\n",
      "True\n",
      "2025-10-21\n",
      "20\n",
      "False\n",
      "2025-10-21\n"
     ]
    }
   ],
   "source": [
    "beh_expt2 = BehaviorExperiment(20, False)\n",
    "beh_expt1.print_info()\n",
    "beh_expt2.print_info()\n",
    "\n",
    "#can generate multiple objects from the same class!\n",
    "# is this like an easy way to see all the information about something"
   ]
  },
  {
   "cell_type": "markdown",
   "metadata": {},
   "source": [
    "### Inheritance and polymorphism\n",
    "\n",
    "As I mentioned earlier, one of the important features of OOP is modularity. Let's go back to the recipe analogy I mentioned earlier. Say we had a recipe for cooking a cake, in general. What if we wanted to bake a vanilla cake? I could write a totally new recipe, but that would be redundant. Instead, what I could do is simply change the section where I add flavorings to the cake mix.\n",
    "\n",
    "Inheritance is exactly this concept: you can create child classes that inherit functionality from a parent class. Let's see what this means using an example."
   ]
  },
  {
   "cell_type": "code",
   "execution_count": 36,
   "metadata": {},
   "outputs": [],
   "source": [
    "#Run this code to load the class\n",
    "class Experiment:\n",
    "        \n",
    "    def __init__(self, path_to_expt, expt_date, experimenter):\n",
    "        self.path_to_expt = path_to_expt\n",
    "        self.expt_date = expt_date\n",
    "        self.experimenter = experimenter\n",
    "        self.generated_date = date.today()\n",
    "        print('Constructor called')\n",
    "        \n",
    "    def print_expt_info(self):\n",
    "        print('Path: ', self.path_to_expt)\n",
    "        print('Experiment Date: ', self.expt_date)\n",
    "        print('Experimenter: ', self.experimenter)\n",
    "        print('Generation Date: ', self.generated_date)\n",
    "        \n",
    "    def return_data(self):\n",
    "        return 'There is no data here for now'"
   ]
  },
  {
   "cell_type": "markdown",
   "metadata": {},
   "source": [
    "Now, we have a small child class that **inherits** from and **extends** a parent class. Notice the syntax: we just place the name of the parent class in the parenthes at the beginning of the class."
   ]
  },
  {
   "cell_type": "code",
   "execution_count": 70,
   "metadata": {},
   "outputs": [],
   "source": [
    "#take note of how we've added 'Experiment' within the parentheses of the class definition\n",
    "class ImagingExperiment(Experiment):\n",
    "    \n",
    "    def __init__(self, path_to_expt, expt_date, experimenter, frame_rate):\n",
    "        self.frame_rate = frame_rate\n",
    "        #Super refers to our parent class\n",
    "        print('Imaging constructor called')\n",
    "        super().__init__(path_to_expt, expt_date, experimenter)\n",
    "    \n",
    "    #This is a new function!\n",
    "    def print_frame_rate(self):\n",
    "        print('Frame Rate: {} Hz'.format(self.frame_rate))\n",
    "    \n",
    "    #This is an old function we modified!\n",
    "    def return_data(self):\n",
    "        return 'Pretend that I am imaging data' \n",
    "    \n",
    "    def print_expt_info(self):\n",
    "        super().print_expt_info() #this tells python to look for the method defined in the parent class\n",
    "        print('Frame Rate: ', self.frame_rate)"
   ]
  },
  {
   "cell_type": "markdown",
   "metadata": {},
   "source": [
    "Let's start by creating an object of our new class: anyone remember how to do this?"
   ]
  },
  {
   "cell_type": "code",
   "execution_count": 71,
   "metadata": {},
   "outputs": [
    {
     "name": "stdout",
     "output_type": "stream",
     "text": [
      "Imaging constructor called\n",
      "Constructor called\n"
     ]
    }
   ],
   "source": [
    "imaging_expt = ImagingExperiment('data/imaging_exp_01', expt_date= '2025-10-21', experimenter = 'Kira', frame_rate=30)"
   ]
  },
  {
   "cell_type": "code",
   "execution_count": 72,
   "metadata": {},
   "outputs": [
    {
     "name": "stdout",
     "output_type": "stream",
     "text": [
      "Path:  data/imaging_exp_01\n",
      "Experiment Date:  2025-10-21\n",
      "Experimenter:  Kira\n",
      "Generation Date:  2025-10-21\n",
      "Frame Rate:  30\n"
     ]
    }
   ],
   "source": [
    "imaging_expt.print_expt_info()\n",
    "# this is just printing from the parent class"
   ]
  },
  {
   "cell_type": "code",
   "execution_count": 50,
   "metadata": {},
   "outputs": [
    {
     "data": {
      "text/plain": [
       "'Pretend that I am imaging data'"
      ]
     },
     "execution_count": 50,
     "metadata": {},
     "output_type": "execute_result"
    }
   ],
   "source": [
    "imaging_expt.return_data()"
   ]
  },
  {
   "cell_type": "markdown",
   "metadata": {},
   "source": [
    "A few things to unpack: <br>\n",
    "1) Notice how we are providing one more argument to the constructor. Let's figure out where this number goes.\n",
    "2) See how the child constructor is called first, and then the constructor for the parent experiment class?\n",
    "3) What do we think the type of our new object will be?"
   ]
  },
  {
   "cell_type": "code",
   "execution_count": 49,
   "metadata": {},
   "outputs": [
    {
     "data": {
      "text/plain": [
       "__main__.ImagingExperiment"
      ]
     },
     "execution_count": 49,
     "metadata": {},
     "output_type": "execute_result"
    }
   ],
   "source": [
    "type(imaging_expt)"
   ]
  },
  {
   "cell_type": "markdown",
   "metadata": {},
   "source": [
    "Now, let's understand these new functions."
   ]
  },
  {
   "cell_type": "code",
   "execution_count": 51,
   "metadata": {},
   "outputs": [
    {
     "name": "stdout",
     "output_type": "stream",
     "text": [
      "Frame Rate: 30 Hz\n"
     ]
    }
   ],
   "source": [
    "imaging_expt.print_frame_rate()"
   ]
  },
  {
   "cell_type": "markdown",
   "metadata": {},
   "source": [
    "That seems self-explanatory - that's a new function we added. Do the old ones still work?"
   ]
  },
  {
   "cell_type": "code",
   "execution_count": 52,
   "metadata": {},
   "outputs": [
    {
     "name": "stdout",
     "output_type": "stream",
     "text": [
      "Path:  data/imaging_exp_01\n",
      "Experiment Date:  2025-100-21\n",
      "Experimenter:  Kira\n",
      "Generation Date:  2025-10-21\n"
     ]
    }
   ],
   "source": [
    "imaging_expt.print_expt_info()"
   ]
  },
  {
   "cell_type": "markdown",
   "metadata": {},
   "source": [
    "Ok, what about return_data? What do we think it will output?"
   ]
  },
  {
   "cell_type": "code",
   "execution_count": 53,
   "metadata": {},
   "outputs": [
    {
     "data": {
      "text/plain": [
       "'Pretend that I am imaging data'"
      ]
     },
     "execution_count": 53,
     "metadata": {},
     "output_type": "execute_result"
    }
   ],
   "source": [
    "imaging_expt.return_data()"
   ]
  },
  {
   "cell_type": "markdown",
   "metadata": {},
   "source": [
    "See how we've created a new version of `return_data`? This is called polymorphism - a single function can take many forms in OOP. This is useful, because often you want a child class to subtly modify or add to a parent class. Think about a vegan cake - the general steps might be the same, but you'd want to go back and modify some of the tasks you're peforming to include different ingredients."
   ]
  },
  {
   "cell_type": "markdown",
   "metadata": {},
   "source": [
    "### Problem 2\n",
    "Just as we did with ImagingExperiment, create a class called BehaviorExperiment that inherits from Experiment. In this class, please take in a `behavior_task` variable instead of `frame_rate`. Create a new function in lieu of `frame_rate` to print your `behavior_task`.  In addition, please write a modified `return_data` function to print your behavior task. Use the templates above and don't be afraid of copying and pasting!"
   ]
  },
  {
   "cell_type": "code",
   "execution_count": null,
   "metadata": {},
   "outputs": [],
   "source": [
    "class BehaviorExperiment(Experiment): #putting Experiment in paratheses calls the parent class\n",
    "    \n",
    "    def __init__(self, path_to_expt, expt_date, experimenter, behavior_task):\n",
    "        self.behavior_task = behavior_task\n",
    "        #Super refers to our parent class\n",
    "        print('Behavior constructor called')\n",
    "        super().__init__(path_to_expt, expt_date, experimenter)\n",
    "    \n",
    "    #This is a new function!\n",
    "    def print_behavior_task(self):\n",
    "        print('Behavior Task: {}'.format(self.behavior_task))\n",
    "    \n",
    "    #This is an old function we modified!\n",
    "    def return_data(self):\n",
    "        return 'Pretend I behavioral data' \n",
    "    \n",
    "    def print_expt_info(self):\n",
    "        super().print_expt_info() #this tells python to look for the method defined in the parent class\n",
    "        print('Behavior Task: ', self.behavior_task) #this allows us to print the "
   ]
  },
  {
   "cell_type": "code",
   "execution_count": 68,
   "metadata": {},
   "outputs": [
    {
     "name": "stdout",
     "output_type": "stream",
     "text": [
      "Behavior constructor called\n",
      "Constructor called\n"
     ]
    }
   ],
   "source": [
    "behavior_expt = BehaviorExperiment('data/imaging_exp_02', expt_date= '2025-10-21', experimenter = 'Kira', behavior_task= 'Crawling Speed')"
   ]
  },
  {
   "cell_type": "code",
   "execution_count": 69,
   "metadata": {},
   "outputs": [
    {
     "name": "stdout",
     "output_type": "stream",
     "text": [
      "Path:  data/imaging_exp_02\n",
      "Experiment Date:  2025-10-21\n",
      "Experimenter:  Kira\n",
      "Generation Date:  2025-10-21\n",
      "Behavior Task:  Crawling Speed\n"
     ]
    }
   ],
   "source": [
    "behavior_expt.print_expt_info()"
   ]
  },
  {
   "cell_type": "markdown",
   "metadata": {},
   "source": [
    "# Switching gears - exploring other people's data.\n"
   ]
  },
  {
   "cell_type": "markdown",
   "metadata": {},
   "source": [
    "Time to be real scientists. We are going to analyse data collected in [High-dimensional geometry of population responses in visual cortex](https://www.nature.com/articles/s41586-019-1346-5).\n",
    "\n",
    "### Problem 3\n",
    "\n",
    "1. Try to find where the data is available (hint: Nature and many other journals have a \"Data availability\" section).\n",
    "2. There are many different files stored in the repository. We want to download the data recorded in mouse \"M170717\" on August 25, 2017. To figure out how the files are stored, consult the instructions on [Github repository](https://github.com/MouseLand/stringer-pachitariu-et-al-2018b). (**Important:** You would want to download the neural recordings, not the stimulus set!)"
   ]
  },
  {
   "cell_type": "markdown",
   "metadata": {},
   "source": [
    "## Getting to know the dataset"
   ]
  },
  {
   "cell_type": "markdown",
   "metadata": {},
   "source": [
    "I've already prepared a numpy array containing the specific responses. Below we're loading it into the notebook:"
   ]
  },
  {
   "cell_type": "code",
   "execution_count": 35,
   "metadata": {},
   "outputs": [],
   "source": [
    "recording = np.load('recording.npy')"
   ]
  },
  {
   "cell_type": "markdown",
   "metadata": {},
   "source": [
    "How is this array structured?"
   ]
  },
  {
   "cell_type": "code",
   "execution_count": null,
   "metadata": {},
   "outputs": [],
   "source": [
    "recording.shape"
   ]
  },
  {
   "cell_type": "markdown",
   "metadata": {},
   "source": [
    "It contains the responses of 11,523 neurons to 480 stimuli."
   ]
  },
  {
   "cell_type": "markdown",
   "metadata": {},
   "source": [
    "### Problem 4\n",
    "\n",
    "To get some idea of the data, let's plot a histogram of the first neuron's responses across all presented images. Let's try to use documentaion and google to figure out how to do this. At this point, we just quickly want to get an idea for the format of the data. Since it is a numpy array, matplotlib is perfect for this."
   ]
  },
  {
   "cell_type": "code",
   "execution_count": null,
   "metadata": {},
   "outputs": [],
   "source": [
    "plt.hist(recording[:,0])"
   ]
  },
  {
   "cell_type": "code",
   "execution_count": null,
   "metadata": {},
   "outputs": [],
   "source": [
    "plt.hist(recording[:,0], bins=30)"
   ]
  },
  {
   "cell_type": "code",
   "execution_count": null,
   "metadata": {},
   "outputs": [],
   "source": [
    "recording"
   ]
  },
  {
   "cell_type": "markdown",
   "metadata": {},
   "source": [
    "This data is extremely high-dimensional and so it is difficult to get a good idea of structures within this data simply from examining it. **Machine learning** makes this general problem tractable."
   ]
  },
  {
   "cell_type": "markdown",
   "metadata": {},
   "source": [
    "## Introduction to Machine learning"
   ]
  },
  {
   "cell_type": "markdown",
   "metadata": {},
   "source": [
    "In science, we routinely break a vague question (\"How does the brain represent orientation?\") down into more specific components (\"How do neurons in visual cortex respond to oriented gratings?\") and then settle on a particular methodology to answer the concrete questions (e.g. record calcium traces using 2-photon imaging).\n",
    "\n",
    "Machine learning is no different. In our case, our vague question is \"What is the structure of our data?\". One concrete way of asking this question is to ask about lower-dimensional structures. Our brain does this automatically all the time! In fact, consider oriented gratings:"
   ]
  },
  {
   "attachments": {
    "image.png": {
     "image/png": "[encoded data removed]"
    }
   },
   "cell_type": "markdown",
   "metadata": {},
   "source": [
    "![image.png](attachment:image.png)"
   ]
  },
  {
   "cell_type": "markdown",
   "metadata": {},
   "source": [
    "This is an extremely high-dimensional stimulus with many different pixels (i.e. dimensions). However, we break it down into a few factors of variation, e.g. orientation and frequency. Methods to uncover such underlying factors of variation are called **dimensionality reduction**.\n",
    "\n",
    "We therefore operationalize \"What is the structure of the data?\" by looking at dimensionality reduction. There are many different possible ways of performing dimensionality reduction. One important such method is **Principal Component Analysis (PCA)**.\n",
    "\n",
    "Below is a simple example:"
   ]
  },
  {
   "cell_type": "code",
   "execution_count": 47,
   "metadata": {},
   "outputs": [],
   "source": [
    "x = np.random.multivariate_normal(mean=np.array([0., 0.]), cov=np.array([[1., 0.9], [0.9, 1.]]), size=(100,))"
   ]
  },
  {
   "cell_type": "markdown",
   "metadata": {},
   "source": [
    "This data is two-dimensional:"
   ]
  },
  {
   "cell_type": "code",
   "execution_count": null,
   "metadata": {},
   "outputs": [],
   "source": [
    "x.shape"
   ]
  },
  {
   "cell_type": "markdown",
   "metadata": {},
   "source": [
    "If we look at each dimension, we don't really understand how the different variables are related:"
   ]
  },
  {
   "cell_type": "code",
   "execution_count": null,
   "metadata": {},
   "outputs": [],
   "source": [
    "plt.hist(x[:,0])"
   ]
  },
  {
   "cell_type": "code",
   "execution_count": null,
   "metadata": {},
   "outputs": [],
   "source": [
    "plt.hist(x[:,1])"
   ]
  },
  {
   "cell_type": "markdown",
   "metadata": {},
   "source": [
    "However, if we plot a scatter plot, we can see some dominant components:"
   ]
  },
  {
   "cell_type": "code",
   "execution_count": null,
   "metadata": {},
   "outputs": [],
   "source": [
    "plt.scatter(x[:,0], x[:,1])"
   ]
  },
  {
   "cell_type": "markdown",
   "metadata": {},
   "source": [
    "With two dimensions, we can do this by visual inspection. For higher-dimensional data, we need to use PCA, which is an algorithm that can identify directions of *variance* in our data.\n",
    "\n",
    "How can we implement PCA in Python? To figure out how to solve our problems in Python, we first need to find a package that will be pertinent to our use case, and then the specific method that we need to use. Let's try this out!"
   ]
  },
  {
   "cell_type": "markdown",
   "metadata": {},
   "source": [
    "Next week, we'll delve into machine learning and work our way around [PACKAGE NAME REDACTED]"
   ]
  }
 ],
 "metadata": {
  "kernelspec": {
   "display_name": "intropython",
   "language": "python",
   "name": "python3"
  },
  "language_info": {
   "codemirror_mode": {
    "name": "ipython",
    "version": 3
   },
   "file_extension": ".py",
   "mimetype": "text/x-python",
   "name": "python",
   "nbconvert_exporter": "python",
   "pygments_lexer": "ipython3",
   "version": "3.13.5"
  }
 },
 "nbformat": 4,
 "nbformat_minor": 2
}
