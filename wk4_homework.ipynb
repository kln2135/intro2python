{
 "cells": [
  {
   "cell_type": "markdown",
   "metadata": {},
   "source": [
    "# Week 4 Homework\n",
    "\n",
    "Go through the content in this notebook, and complete the problems."
   ]
  },
  {
   "cell_type": "markdown",
   "metadata": {},
   "source": [
    "# Errors\n",
    "\n",
    "By now, we have seen several pieces of code that have failed to run. In that case, Python does not only raise an error, but also specifies what exactly went wrong."
   ]
  },
  {
   "cell_type": "code",
   "execution_count": null,
   "metadata": {},
   "outputs": [],
   "source": [
    "# A syntax error indicates that your code is not properly formatted:\n",
    "a = 2\n",
    "print(a+3\n",
    "# needs a second parantheses"
   ]
  },
  {
   "cell_type": "code",
   "execution_count": null,
   "metadata": {},
   "outputs": [],
   "source": [
    "# A type error indicates that a function received an input of the wrong type\n",
    "a = '2'\n",
    "print(a+3)\n",
    "# because 2 is in quotations it will be treated like a string and not a number value that can be used in math"
   ]
  },
  {
   "cell_type": "code",
   "execution_count": null,
   "metadata": {},
   "outputs": [],
   "source": [
    "# An index error suggests that it is not possible to index an object in the attempted way.\n",
    "a = [2, 3]\n",
    "a[3]\n",
    "#this list index is out of range (e.g. 0 and 1 in range)"
   ]
  },
  {
   "cell_type": "markdown",
   "metadata": {},
   "source": [
    "You can return errors yourself using the command `raise`:"
   ]
  },
  {
   "cell_type": "code",
   "execution_count": null,
   "metadata": {},
   "outputs": [],
   "source": [
    "a = 3\n",
    "if a == 3:\n",
    "  raise ValueError('a should not be three')"
   ]
  },
  {
   "cell_type": "markdown",
   "metadata": {},
   "source": [
    "## More info on functions: Args and kwargs\n",
    "\n",
    "You can also use a piece of code that allows you to provide arbitrary arguments (with or without keywords) to your function. If you use `*args` as one of the arguments of your function, this will take any unnamed argument and put all of them in a tuple:"
   ]
  },
  {
   "cell_type": "code",
   "execution_count": null,
   "metadata": {},
   "outputs": [],
   "source": [
    "def f(a, *args):\n",
    "  print(a)\n",
    "  print(args)\n",
    "f(1, 2, 3)"
   ]
  },
  {
   "cell_type": "code",
   "execution_count": null,
   "metadata": {},
   "outputs": [],
   "source": [
    "f(1, 2, 3, 4)"
   ]
  },
  {
   "cell_type": "code",
   "execution_count": null,
   "metadata": {},
   "outputs": [],
   "source": [
    "# The name args is not important\n",
    "def f(a, *variable):\n",
    "  print(a)\n",
    "  print(variable)\n",
    "f(1, 2, 3)\n",
    "f(1, 2, 3, 4)"
   ]
  },
  {
   "cell_type": "markdown",
   "metadata": {},
   "source": [
    "Similarly, if you put two asterisks in front of your variable (e.g. ``**kwargs``), it will assign all names variables to kwargs (in a dictionary format)."
   ]
  },
  {
   "cell_type": "code",
   "execution_count": null,
   "metadata": {},
   "outputs": [],
   "source": [
    "def f(a, **kwargs):\n",
    "  print(a)\n",
    "  print(kwargs)\n",
    "f(a=1, b=2, c=3)"
   ]
  },
  {
   "cell_type": "markdown",
   "metadata": {},
   "source": [
    "Again, we're mostly explaining this so you are familiar with it later on, when it will become extremely useful."
   ]
  },
  {
   "cell_type": "markdown",
   "metadata": {},
   "source": [
    "## Readability - Type Hinting \n",
    "Type hints indicate the types of variables, function parameters, and return values. They can help other developers understand what types of data your function expects and what it will return. Though it's not necessary to type hint, it helps improves the code readability and helps other people troubleshoot what's going on if they run into an issue."
   ]
  },
  {
   "cell_type": "code",
   "execution_count": null,
   "metadata": {},
   "outputs": [],
   "source": [
    "def surface_area_of_cube(edge_length: float) -> str:\n",
    "    return f\"The surface area of the cube is {6 * edge_length ** 2}.\""
   ]
  },
  {
   "cell_type": "markdown",
   "metadata": {},
   "source": [
    "The function surface_area_of_cube takes an argument expected to be an instance of float, as indicated by the type hint edge_length: float. The function is expected to return an instance of str, as indicated by the -> str hint.\n",
    "\n",
    "# Readability - Docstrings\n",
    "\n",
    "Docstrings are great for understanding the functionality of the larger part of the code, i.e., the general purpose of any class or function. You can write whatever you want in it, though people generally prefer to follow certain style guide conventions, e.g. [PEP-257](https://peps.python.org/pep-0257/), or [numpydoc](https://numpydoc.readthedocs.io/en/latest/format.html)"
   ]
  },
  {
   "cell_type": "code",
   "execution_count": null,
   "metadata": {},
   "outputs": [],
   "source": [
    "def surface_area_of_cube(edge_length: float) -> str:\n",
    "    \"\"\"\n",
    "    Hahaha I am writing whatever I want! this is going to output the surface of a cuuubbeeeeee :) \n",
    "    \"\"\"\n",
    "    return f\"The surface area of the cube is {6 * edge_length ** 2}.\""
   ]
  },
  {
   "cell_type": "code",
   "execution_count": null,
   "metadata": {},
   "outputs": [],
   "source": [
    "surface_area_of_cube?"
   ]
  },
  {
   "cell_type": "code",
   "execution_count": null,
   "metadata": {},
   "outputs": [],
   "source": [
    "# Sharon likes to use numpydoc convention.\n",
    "\n",
    "def surface_area_of_cube(edge_length: float) -> str:\n",
    "    \"\"\"\n",
    "    A unit agnostic function that calculates the surface area of a cube based on it's edge length. \n",
    "\n",
    "    Parameters\n",
    "    ----------\n",
    "    edge_length : float\n",
    "        The length of an edge for a given cube\n",
    "\n",
    "    Returns\n",
    "    -------\n",
    "    string\n",
    "        Human readable message detailing the surface area of the cube\n",
    "\n",
    "    \"\"\"\n",
    "    return f\"The surface area of the cube is {6 * edge_length ** 2}.\""
   ]
  },
  {
   "cell_type": "code",
   "execution_count": null,
   "metadata": {},
   "outputs": [],
   "source": [
    "surface_area_of_cube?"
   ]
  },
  {
   "cell_type": "markdown",
   "metadata": {},
   "source": [
    "## Problem 1 (list comprehension):\n",
    "1. Create a list using **list comprehension** where any values between 2 and 10 inclusive that are divisible by 3 are added to the list. Assign the list to a variable called `divisible_3s`.\n",
    "2. Using a for loop, print the index and the value at that index for every element in `divisible_3s`.\n",
    "3. Create a dictionary using list comprehension where the key is $x^3$ and the value is $x^2$ for x's between 1 and 4 inclusive. Assign the dictionary to variable `cube_square`.\n",
    "4. Print the key and value for every key, value pair in `cube_square`"
   ]
  },
  {
   "cell_type": "code",
   "execution_count": null,
   "metadata": {},
   "outputs": [],
   "source": [
    "#1.1\n",
    "divisible_3s = [x for x in range(2,11) if x%3==0]\n",
    "print(divisible_3s)"
   ]
  },
  {
   "cell_type": "code",
   "execution_count": null,
   "metadata": {},
   "outputs": [],
   "source": [
    "#1.2\n",
    "for i, x in enumerate(divisible_3s):\n",
    "    print(i, x)\n",
    "#Do i have to use x because that's the variable I was using above?\n",
    "#Can you use item or value for the for loop?? Both seem to work\n",
    "#still kind of confused what i is"
   ]
  },
  {
   "cell_type": "code",
   "execution_count": null,
   "metadata": {},
   "outputs": [],
   "source": [
    "#1.3\n",
    "cube_square = {x**3: x**2 for x in range(1,5)}\n",
    "print(cube_square)\n"
   ]
  },
  {
   "cell_type": "code",
   "execution_count": null,
   "metadata": {},
   "outputs": [],
   "source": [
    "#1.4\n",
    "print(cube_square)"
   ]
  },
  {
   "cell_type": "markdown",
   "metadata": {},
   "source": [
    "## Problem 2 (error raises, default arguments)\n",
    "1. Write a function `integer_add` that takes two arguments and adds them together. If either of the arguments are not integers, raise an error. What is the correct error for this issue? \n",
    "2. Set default arguments of the two arguments to 1 for this function."
   ]
  },
  {
   "cell_type": "code",
   "execution_count": null,
   "metadata": {},
   "outputs": [],
   "source": [
    "#2.1/2.2 Correct way to do it\n",
    "def integer_add(a=1, b=1):\n",
    "    try:\n",
    "        return a+b\n",
    "    except TypeError:\n",
    "        print('WARNING: ONLY INTEGERS ARE VALID INPUTS')\n",
    "integer_add(3, '3')"
   ]
  },
  {
   "cell_type": "code",
   "execution_count": null,
   "metadata": {},
   "outputs": [],
   "source": [
    "#2.1\n",
    "a= 2\n",
    "b= 3\n",
    "def integer_add(a, b):\n",
    "    \"\"\"Adds two numbers together, but both need to be integers\n",
    "\n",
    "Args:\n",
    "a = first number\n",
    "b= second number\n",
    "\n",
    "Returns: a+b\n",
    "\n",
    "Raises:\n",
    "TypeError(\"Both args must be integers)\n",
    "    \"\"\"\n",
    "    if not isinstance(a, int) or not isinstance(b, int):\n",
    "        raise TypeError(\"Both args must be integers\")\n",
    "    return a+b\n",
    "\n",
    "## CALLING the function and printing the result\n",
    "result = integer_add(a,b)\n",
    "print(result)\n",
    "\n",
    "##this is not the best way to do this - need to use try/ except"
   ]
  },
  {
   "cell_type": "markdown",
   "metadata": {},
   "source": [
    "Need to CALL the function to print the result"
   ]
  },
  {
   "cell_type": "markdown",
   "metadata": {},
   "source": [
    "## Problem 3 (try/except, break/pass/continue):\n",
    "1. Use try/except to write a FUNCTION that takes integers a and b and prints a/b. If it gets an error (for example b is 0), it should instead print \"Cannot divide by zero\". Try your code with a few different choices of a and b to make sure it works correctly. \n",
    "- **Additionally, write a docstring for that funtion.**\n",
    "\n",
    "2. Modify your function so that it takes lists a and b, where numbers are paired by their index, and prints out a/b for each pair. If you run into an error, you must use pass, continue or break to print \"Cannot divide by zero\", and then continue printing the rest of the pairs. \n",
    "- **Use type hinting to indicate that a and b take in a list.**"
   ]
  },
  {
   "cell_type": "code",
   "execution_count": null,
   "metadata": {},
   "outputs": [],
   "source": [
    "#3.1\n",
    "def safe_divide(a, b):\n",
    "    \"\"\"\n",
    "    Divides two integers and handles division errors\n",
    "    Parameters:\n",
    "    a(int): the numerator\n",
    "    b(int): the denominator\n",
    "\n",
    "    Prints:\n",
    "    the result of a/b if possible, otherwise prints \"cannot divide by zero\"\n",
    "    \"\"\"\n",
    "    try:\n",
    "        result = a/b\n",
    "        print(result)\n",
    "    except ZeroDivisionError:\n",
    "        print(\"Cannot divide by zero\")\n",
    "\n",
    "safe_divide(2,1)\n",
    "safe_divide(2,0)\n",
    "## the step at the end is calling the function!!! Need the try and except code to be under the loop for the function\n",
    "#calling the function happens outside that loop"
   ]
  },
  {
   "cell_type": "markdown",
   "metadata": {},
   "source": [
    "Notes: The info written between the 3 quotations is the doc string --> defines the function so you can look it up later\n",
    "Quetion: why couldn't I use return function in the example above"
   ]
  },
  {
   "cell_type": "code",
   "execution_count": null,
   "metadata": {},
   "outputs": [],
   "source": [
    "#3.2 \n",
    "def safe_divide_lists(a: list, b: list):\n",
    "    \"\"\"\n",
    "    Divides paired elements of two lists and handles division errors\n",
    "    Parameters:\n",
    "    a(List[int]): list of numerators\n",
    "    b(List[int]): list of denominators\n",
    "\n",
    "    Prints:\n",
    "    The result of a[i]/ b[i] if b[i] is not zero,\n",
    "    otherwise prints \"cannot divide by zero\"\n",
    "    \"\"\"\n",
    "    for i in range(len(a)):\n",
    "        if b[i] ==0:\n",
    "            print(\"Cannot divide by zero\")\n",
    "            continue\n",
    "        print(a[i] / b[i])\n",
    "\n",
    "safe_divide_lists ([10, 7, 8], [2, 0, 4])\n"
   ]
  },
  {
   "cell_type": "markdown",
   "metadata": {},
   "source": [
    "# Problem 4\n",
    "\n",
    "Given an array of ints, return True if the array contains a 2 next to a 2 somewhere.\n",
    "\n",
    "\n",
    "has22([1, 2, 2]) → True\n",
    "has22([1, 2, 1, 2]) → False\n",
    "has22([2, 1, 2]) → False\n",
    "\n",
    "**Write a docstring and use type hinting for this function as well.**"
   ]
  },
  {
   "cell_type": "code",
   "execution_count": null,
   "metadata": {},
   "outputs": [],
   "source": [
    "#4\n",
    "def has22(nums: list) -> bool:\n",
    "    '''Check if the list contians a 2 next to another 2\n",
    "\n",
    "   Parameters:\n",
    "    nums (List[int]): A list of integers\n",
    "     \n",
    "      Returns:\n",
    "       bool: True if the list contains two consectuive 2's, False if otherwise '''\n",
    "    for i in range(len(nums) - 1):\n",
    "        if nums[i] == 2 and nums[i+1] ==2:\n",
    "            return True \n",
    "    return False\n",
    "\n",
    "print(has22([1,2,2]))\n",
    "print(has22([1,2,1,2]))"
   ]
  },
  {
   "cell_type": "markdown",
   "metadata": {},
   "source": [
    "-> bool\n",
    "this tells the function what it will return\n",
    "\n",
    "nums: list \n",
    "I'm pretty sure this is just naming the list"
   ]
  },
  {
   "cell_type": "markdown",
   "metadata": {},
   "source": [
    "## Problem 5\n",
    "\n",
    "You and your friends are really into the newest season of some reality TV show where everyone speed-dates each other, and you are trying to think of couple names (ship names) for several pairs. A common heuristic for coming up with couple names is combining the first syllable of one person's name with the LAST syllable of the other person's name. So, for example, the couple name for `Sharon` and `Janet` would be `Shanet`, combining the first syllable `Sha` from Sharon and the last syllable `net` from `Janet`.\n",
    " \n",
    "\n",
    "Rules for syllable parsing:\n",
    "If a vowel (letters aeiou and **sometimes** y) is followed by a consonant, that vowel marks the end of the syllable. (e.g. in `Sharon`, `a` is followed by `r`, and thus, the first syllable is `Sha`). EXCEPT, if `sh` follows a vowel, then `sh` marks the end of that syllable. e.g. the first syllable of `Ashley` is `Ash`, not `As`\n",
    " \n",
    "\n",
    "However, what if you have a couple with the names `Aaron` and `Sharon`? Combining the first syllable and last syllable from those two names would yield `Aaron`, and switching the order (where we take the first syllable from Sharon, and the last syllable from Aaron) would yield `Sharon`. These are BORING couple names, because the output is the same as one of the names of the people in the couple. In these cases, you would want to combine the first syllable from `Aaron` with the first syllable from `Sharon`, thus yielding `AaSha`, a much better couple name. [If it makes it easier, I will accept `Ronron` as an answer too.]\n",
    " \n",
    "\n",
    "Write a function called `name_generator` that sets variable `couple_name` to a suitable couple name for a couple with names assigned to variables `person1` and `person2`.\n",
    "\n",
    "\n",
    "I will try AT LEAST 7 test cases when grading, but I will give you 4 of them. Pass at least 3 to get full credit for the problem. Extra credit will be assigned based on the number of test cases passed. Note that this is CASE SENSITIVE.\n",
    "1. `Mobi` and `Betsy` \n",
    "2. `Ellie` and `Kollin`\n",
    "3. `Sam` and `Justin`\n",
    "4. `Shelly` and `Yonathan`"
   ]
  },
  {
   "cell_type": "code",
   "execution_count": 133,
   "metadata": {},
   "outputs": [
    {
     "name": "stdout",
     "output_type": "stream",
     "text": [
      "Mobsy\n",
      "Ellin\n",
      "Samtin\n",
      "Shelnathan\n"
     ]
    }
   ],
   "source": [
    "def name_generator(person1 : str, person2 : str) -> str:\n",
    "    ##### Put your work below this line.\n",
    "    '''\n",
    "    Generate a couple name by combining syllables from two people's names.\n",
    "\n",
    "    Rules:\n",
    "    - First syllable: from the first vowel followed by a consonant (or 'sh' after a vowel)\n",
    "    - Last Syllable: everything after the first syllable to the end\n",
    "    - Avoid boring names (if resulting couple name matches either orginal name)\n",
    "\n",
    "    Parameters:\n",
    "    person1 (str): Name of first person\n",
    "    person2: Name of second person\n",
    "\n",
    "    Returns:\n",
    "    str: A suitable couple name\n",
    " '''\n",
    "    \n",
    "    vowels = \"aeiouAEIOUyY\"\n",
    "\n",
    "    def first_syllable(name: str) -> str:\n",
    "         i = 0\n",
    "         while i < len(name) - 1:\n",
    "             if name[i] in vowels:\n",
    "                 if name[i+1: i+3] == 'sh' or name[i+1: i+3] =='Sh':\n",
    "                    return name[:i+3] # include 'sh'\n",
    "                 return name[:i+2] #vowel + following consonent\n",
    "             i += 1\n",
    "         return name #fallback: whole name if no vowel rule applies\n",
    "    \n",
    "    def last_syllable(name: str) -> str:\n",
    "        fs = first_syllable(name)\n",
    "        return name[len(fs):] if len(fs) < len(name) else name\n",
    "    \n",
    "    #Get syllables\n",
    "    fs1 = first_syllable(person1)\n",
    "    ls1 = last_syllable(person1)\n",
    "    fs2 = first_syllable(person2)\n",
    "    ls2 = last_syllable(person2)\n",
    "    \n",
    "    #Attempt normal combination\n",
    "    couple_name = fs1 + ls2\n",
    "    if couple_name == person1 or couple_name == person2:\n",
    "        #Use first syllables instead if boring\n",
    "        couple_name = fs1 +fs2\n",
    "            \n",
    "\n",
    "        #### Put your work above this line \n",
    "    return couple_name\n",
    "\n",
    "print(name_generator(\"Mobi\", \"Betsy\"))\n",
    "print(name_generator(\"Ellie\", \"Kollin\"))\n",
    "print(name_generator(\"Sam\", \"Justin\"))\n",
    "print(name_generator(\"Shelly\", \"Yonathan\"))"
   ]
  },
  {
   "cell_type": "markdown",
   "metadata": {},
   "source": [
    "Double quotations for a string --> In Python, a string literal is a sequence of characters enclosed within quotation marks, representing a fixed, unchangeable value of the string data type directly in your code\n",
    "\n",
    "the colon (:) slices the string at that index point!!!"
   ]
  },
  {
   "cell_type": "code",
   "execution_count": null,
   "metadata": {},
   "outputs": [],
   "source": [
    "#class work version\n",
    "def name_generator"
   ]
  },
  {
   "cell_type": "markdown",
   "metadata": {},
   "source": [
    "Write steps for finding the syllables"
   ]
  }
 ],
 "metadata": {
  "kernelspec": {
   "display_name": "intropython",
   "language": "python",
   "name": "python3"
  },
  "language_info": {
   "codemirror_mode": {
    "name": "ipython",
    "version": 3
   },
   "file_extension": ".py",
   "mimetype": "text/x-python",
   "name": "python",
   "nbconvert_exporter": "python",
   "pygments_lexer": "ipython3",
   "version": "3.13.5"
  }
 },
 "nbformat": 4,
 "nbformat_minor": 2
}
