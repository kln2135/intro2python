{
 "cells": [
  {
   "cell_type": "markdown",
   "metadata": {},
   "source": [
    "# Week 4 Homework\n",
    "\n",
    "Go through the content in this notebook, and complete the problems."
   ]
  },
  {
   "cell_type": "markdown",
   "metadata": {},
   "source": [
    "# Errors\n",
    "\n",
    "By now, we have seen several pieces of code that have failed to run. In that case, Python does not only raise an error, but also specifies what exactly went wrong."
   ]
  },
  {
   "cell_type": "code",
   "execution_count": null,
   "metadata": {},
   "outputs": [],
   "source": [
    "# A syntax error indicates that your code is not properly formatted:\n",
    "a = 2\n",
    "print(a+3"
   ]
  },
  {
   "cell_type": "code",
   "execution_count": null,
   "metadata": {},
   "outputs": [],
   "source": [
    "# A type error indicates that a function received an input of the wrong type\n",
    "a = '2'\n",
    "print(a+3)"
   ]
  },
  {
   "cell_type": "code",
   "execution_count": null,
   "metadata": {},
   "outputs": [],
   "source": [
    "# An index error suggests that it is not possible to index an object in the attempted way.\n",
    "a = [2, 3]\n",
    "a[3]"
   ]
  },
  {
   "cell_type": "markdown",
   "metadata": {},
   "source": [
    "You can return errors yourself using the command `raise`:"
   ]
  },
  {
   "cell_type": "code",
   "execution_count": null,
   "metadata": {},
   "outputs": [],
   "source": [
    "a = 3\n",
    "if a == 3:\n",
    "  raise ValueError('a should not be three')"
   ]
  },
  {
   "cell_type": "markdown",
   "metadata": {},
   "source": [
    "## More info on functions: Args and kwargs\n",
    "\n",
    "You can also use a piece of code that allows you to provide arbitrary arguments (with or without keywords) to your function. If you use `*args` as one of the arguments of your function, this will take any unnamed argument and put all of them in a tuple:"
   ]
  },
  {
   "cell_type": "code",
   "execution_count": null,
   "metadata": {},
   "outputs": [],
   "source": [
    "def f(a, *args):\n",
    "  print(a)\n",
    "  print(args)\n",
    "f(1, 2, 3)"
   ]
  },
  {
   "cell_type": "code",
   "execution_count": null,
   "metadata": {},
   "outputs": [],
   "source": [
    "f(1, 2, 3, 4)"
   ]
  },
  {
   "cell_type": "code",
   "execution_count": null,
   "metadata": {},
   "outputs": [],
   "source": [
    "# The name args is not important\n",
    "def f(a, *variable):\n",
    "  print(a)\n",
    "  print(variable)\n",
    "f(1, 2, 3)\n",
    "f(1, 2, 3, 4)"
   ]
  },
  {
   "cell_type": "markdown",
   "metadata": {},
   "source": [
    "Similarly, if you put two asterisks in front of your variable (e.g. ``**kwargs``), it will assign all names variables to kwargs (in a dictionary format)."
   ]
  },
  {
   "cell_type": "code",
   "execution_count": null,
   "metadata": {},
   "outputs": [],
   "source": [
    "def f(a, **kwargs):\n",
    "  print(a)\n",
    "  print(kwargs)\n",
    "f(a=1, b=2, c=3)"
   ]
  },
  {
   "cell_type": "markdown",
   "metadata": {},
   "source": [
    "Again, we're mostly explaining this so you are familiar with it later on, when it will become extremely useful."
   ]
  },
  {
   "cell_type": "markdown",
   "metadata": {},
   "source": [
    "## Readability - Type Hinting \n",
    "Type hints indicate the types of variables, function parameters, and return values. They can help other developers understand what types of data your function expects and what it will return. Though it's not necessary to type hint, it helps improves the code readability and helps other people troubleshoot what's going on if they run into an issue."
   ]
  },
  {
   "cell_type": "code",
   "execution_count": null,
   "metadata": {},
   "outputs": [],
   "source": [
    "def surface_area_of_cube(edge_length: float) -> str:\n",
    "    return f\"The surface area of the cube is {6 * edge_length ** 2}.\""
   ]
  },
  {
   "cell_type": "markdown",
   "metadata": {},
   "source": [
    "The function surface_area_of_cube takes an argument expected to be an instance of float, as indicated by the type hint edge_length: float. The function is expected to return an instance of str, as indicated by the -> str hint.\n",
    "\n",
    "# Readability - Docstrings\n",
    "\n",
    "Docstrings are great for understanding the functionality of the larger part of the code, i.e., the general purpose of any class or function. You can write whatever you want in it, though people generally prefer to follow certain style guide conventions, e.g. [PEP-257](https://peps.python.org/pep-0257/), or [numpydoc](https://numpydoc.readthedocs.io/en/latest/format.html)"
   ]
  },
  {
   "cell_type": "code",
   "execution_count": null,
   "metadata": {},
   "outputs": [],
   "source": [
    "def surface_area_of_cube(edge_length: float) -> str:\n",
    "    \"\"\"\n",
    "    Hahaha I am writing whatever I want! this is going to output the surface of a cuuubbeeeeee :) \n",
    "    \"\"\"\n",
    "    return f\"The surface area of the cube is {6 * edge_length ** 2}.\""
   ]
  },
  {
   "cell_type": "code",
   "execution_count": null,
   "metadata": {},
   "outputs": [],
   "source": [
    "surface_area_of_cube?"
   ]
  },
  {
   "cell_type": "code",
   "execution_count": null,
   "metadata": {},
   "outputs": [],
   "source": [
    "# Sharon likes to use numpydoc convention.\n",
    "\n",
    "def surface_area_of_cube(edge_length: float) -> str:\n",
    "    \"\"\"\n",
    "    A unit agnostic function that calculates the surface area of a cube based on it's edge length. \n",
    "\n",
    "    Parameters\n",
    "    ----------\n",
    "    edge_length : float\n",
    "        The length of an edge for a given cube\n",
    "\n",
    "    Returns\n",
    "    -------\n",
    "    string\n",
    "        Human readable message detailing the surface area of the cube\n",
    "\n",
    "    \"\"\"\n",
    "    return f\"The surface area of the cube is {6 * edge_length ** 2}.\""
   ]
  },
  {
   "cell_type": "code",
   "execution_count": null,
   "metadata": {},
   "outputs": [],
   "source": [
    "surface_area_of_cube?"
   ]
  },
  {
   "cell_type": "markdown",
   "metadata": {},
   "source": [
    "## Problem 1 (list comprehension):\n",
    "1. Create a list using **list comprehension** where any values between 2 and 10 inclusive that are divisible by 3 are added to the list. Assign the list to a variable called `divisible_3s`.\n",
    "2. Using a for loop, print the index and the value at that index for every element in `divisible_3s`.\n",
    "3. Create a dictionary using list comprehension where the key is $x^3$ and the value is $x^2$ for x's between 1 and 4 inclusive. Assign the dictionary to variable `cube_square`.\n",
    "4. Print the key and value for every key, value pair in `cube_square`"
   ]
  },
  {
   "cell_type": "code",
   "execution_count": 1,
   "metadata": {},
   "outputs": [],
   "source": [
    "#1.1\n"
   ]
  },
  {
   "cell_type": "code",
   "execution_count": 2,
   "metadata": {},
   "outputs": [],
   "source": [
    "#1.2"
   ]
  },
  {
   "cell_type": "code",
   "execution_count": 3,
   "metadata": {},
   "outputs": [],
   "source": [
    "#1.3\n"
   ]
  },
  {
   "cell_type": "code",
   "execution_count": 4,
   "metadata": {},
   "outputs": [],
   "source": [
    "#1.4"
   ]
  },
  {
   "cell_type": "markdown",
   "metadata": {},
   "source": [
    "## Problem 2 (error raises, default arguments)\n",
    "1. Write a function `integer_add` that takes two arguments and adds them together. If either of the arguments are not integers, raise an error. What is the correct error for this issue? \n",
    "2. Set default arguments of the two arguments to 1 for this function."
   ]
  },
  {
   "cell_type": "code",
   "execution_count": null,
   "metadata": {},
   "outputs": [],
   "source": [
    "#2.1"
   ]
  },
  {
   "cell_type": "code",
   "execution_count": null,
   "metadata": {},
   "outputs": [],
   "source": [
    "#2.2"
   ]
  },
  {
   "cell_type": "markdown",
   "metadata": {},
   "source": [
    "## Problem 3 (try/except, break/pass/continue):\n",
    "1. Use try/except to write a FUNCTION that takes integers a and b and prints a/b. If it gets an error (for example b is 0), it should instead print \"Cannot divide by zero\". Try your code with a few different choices of a and b to make sure it works correctly. \n",
    "- **Additionally, write a docstring for that funtion.**\n",
    "\n",
    "2. Modify your function so that it takes lists a and b, where numbers are paired by their index, and prints out a/b for each pair. If you run into an error, you must use pass, continue or break to print \"Cannot divide by zero\", and then continue printing the rest of the pairs. \n",
    "- **Use type hinting to indicate that a and b take in a list.**"
   ]
  },
  {
   "cell_type": "code",
   "execution_count": null,
   "metadata": {},
   "outputs": [],
   "source": [
    "#3.1"
   ]
  },
  {
   "cell_type": "code",
   "execution_count": null,
   "metadata": {},
   "outputs": [],
   "source": [
    "#3.2 "
   ]
  },
  {
   "cell_type": "markdown",
   "metadata": {},
   "source": [
    "# Problem 4\n",
    "\n",
    "Given an array of ints, return True if the array contains a 2 next to a 2 somewhere.\n",
    "\n",
    "\n",
    "has22([1, 2, 2]) → True\n",
    "has22([1, 2, 1, 2]) → False\n",
    "has22([2, 1, 2]) → False\n",
    "\n",
    "**Write a docstring and use type hinting for this function as well.**"
   ]
  },
  {
   "cell_type": "code",
   "execution_count": null,
   "metadata": {},
   "outputs": [],
   "source": [
    "#4"
   ]
  },
  {
   "cell_type": "markdown",
   "metadata": {},
   "source": [
    "## Problem 5\n",
    "\n",
    "You and your friends are really into the newest season of some reality TV show where everyone speed-dates each other, and you are trying to think of couple names (ship names) for several pairs. A common heuristic for coming up with couple names is combining the first syllable of one person's name with the LAST syllable of the other person's name. So, for example, the couple name for `Sharon` and `Janet` would be `Shanet`, combining the first syllable `Sha` from Sharon and the last syllable `net` from `Janet`.\n",
    " \n",
    "\n",
    "Rules for syllable parsing:\n",
    "If a vowel (letters aeiou and **sometimes** y) is followed by a consonant, that vowel marks the end of the syllable. (e.g. in `Sharon`, `a` is followed by `r`, and thus, the first syllable is `Sha`). EXCEPT, if `sh` follows a vowel, then `sh` marks the end of that syllable. e.g. the first syllable of `Ashley` is `Ash`, not `As`\n",
    " \n",
    "\n",
    "However, what if you have a couple with the names `Aaron` and `Sharon`? Combining the first syllable and last syllable from those two names would yield `Aaron`, and switching the order (where we take the first syllable from Sharon, and the last syllable from Aaron) would yield `Sharon`. These are BORING couple names, because the output is the same as one of the names of the people in the couple. In these cases, you would want to combine the first syllable from `Aaron` with the first syllable from `Sharon`, thus yielding `AaSha`, a much better couple name. [If it makes it easier, I will accept `Ronron` as an answer too.]\n",
    " \n",
    "\n",
    "Write a function called `name_generator` that sets variable `couple_name` to a suitable couple name for a couple with names assigned to variables `person1` and `person2`.\n",
    "\n",
    "\n",
    "I will try AT LEAST 7 test cases when grading, but I will give you 4 of them. Pass at least 3 to get full credit for the problem. Extra credit will be assigned based on the number of test cases passed. Note that this is CASE SENSITIVE.\n",
    "1. `Mobi` and `Betsy` \n",
    "2. `Ellie` and `Kollin`\n",
    "3. `Sam` and `Justin`\n",
    "4. `Shelly` and `Yonathan`"
   ]
  },
  {
   "cell_type": "code",
   "execution_count": null,
   "metadata": {},
   "outputs": [],
   "source": [
    "def name_generator(person1 : str, person2 : str) -> str:\n",
    "    ##### Put your work below this line.\n",
    "\n",
    "\n",
    "\n",
    "    #### Put your work above this line \n",
    "    return couple_name"
   ]
  }
 ],
 "metadata": {
  "kernelspec": {
   "display_name": "Python 3",
   "language": "python",
   "name": "python3"
  },
  "language_info": {
   "codemirror_mode": {
    "name": "ipython",
    "version": 3
   },
   "file_extension": ".py",
   "mimetype": "text/x-python",
   "name": "python",
   "nbconvert_exporter": "python",
   "pygments_lexer": "ipython3",
   "version": "3.10.12"
  }
 },
 "nbformat": 4,
 "nbformat_minor": 2
}
